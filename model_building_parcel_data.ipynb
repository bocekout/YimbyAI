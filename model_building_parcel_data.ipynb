{
 "cells": [
  {
   "cell_type": "markdown",
   "id": "0762237b",
   "metadata": {},
   "source": [
    "# Model Building and Experimentation\n",
    "This notebook is used for building and experimenting with models using parcel data retrieved from the Regrid API."
   ]
  },
  {
   "cell_type": "markdown",
   "id": "0c20efb2",
   "metadata": {},
   "source": [
    "# Import Required Libraries\n",
    "Import main, pandas, numpy, json, and scikit-learn."
   ]
  },
  {
   "cell_type": "code",
   "execution_count": 3,
   "id": "12f10e22",
   "metadata": {},
   "outputs": [],
   "source": [
    "# Import Required Libraries\n",
    "from app import main\n",
    "import pandas as pd\n",
    "import numpy as np\n",
    "import os\n",
    "import json\n",
    "from sklearn.model_selection import train_test_split\n",
    "from sklearn.ensemble import RandomForestRegressor\n",
    "from sklearn.metrics import mean_squared_error, r2_score"
   ]
  },
  {
   "cell_type": "markdown",
   "id": "dd7cd1ba",
   "metadata": {},
   "source": [
    "# Load and Explore Data\n",
    "Use the regrid API connector in main.py to retrieve parcel data and load it into a pandas DataFrame. Perform basic exploration of the data."
   ]
  },
  {
   "cell_type": "code",
   "execution_count": 4,
   "id": "5aff32be",
   "metadata": {},
   "outputs": [
    {
     "name": "stderr",
     "output_type": "stream",
     "text": [
      "2025-05-08 01:49:26,743 - RegridConnector - INFO - Searching for parcels with address: 2508 Lorentz Pl N\n",
      "2025-05-08 01:49:27,256 - RegridConnector - ERROR - Error in API call: 401 - {\"status\":\"error\",\"message\":\"An access token is required.\"}\n",
      "2025-05-08 01:49:27,256 - RegridConnector - ERROR - Error in API call: 401 - {\"status\":\"error\",\"message\":\"An access token is required.\"}\n"
     ]
    },
    {
     "ename": "HTTPError",
     "evalue": "401 Client Error: Unauthorized for url: https://app.regrid.com/api/v1/search?address=2508+Lorentz+Pl+N",
     "output_type": "error",
     "traceback": [
      "\u001b[31m---------------------------------------------------------------------------\u001b[39m",
      "\u001b[31mHTTPError\u001b[39m                                 Traceback (most recent call last)",
      "\u001b[36mCell\u001b[39m\u001b[36m \u001b[39m\u001b[32mIn[4]\u001b[39m\u001b[32m, line 5\u001b[39m\n\u001b[32m      3\u001b[39m API = os.getenv(\u001b[33m'\u001b[39m\u001b[33mREGRID_API_KEY\u001b[39m\u001b[33m'\u001b[39m)\n\u001b[32m      4\u001b[39m connector = main.RegridConnector(API)\n\u001b[32m----> \u001b[39m\u001b[32m5\u001b[39m parcel_data = \u001b[43mconnector\u001b[49m\u001b[43m.\u001b[49m\u001b[43mget_construction_data_by_address\u001b[49m\u001b[43m(\u001b[49m\u001b[43maddress\u001b[49m\u001b[43m \u001b[49m\u001b[43m=\u001b[49m\u001b[43m \u001b[49m\u001b[33;43m'\u001b[39;49m\u001b[33;43m2508 Lorentz Pl N\u001b[39;49m\u001b[33;43m'\u001b[39;49m\u001b[43m)\u001b[49m\n\u001b[32m      7\u001b[39m \u001b[38;5;66;03m# Load data into a pandas DataFrame\u001b[39;00m\n\u001b[32m      8\u001b[39m df = pd.DataFrame(parcel_data)\n",
      "\u001b[36mFile \u001b[39m\u001b[32m/workspaces/YimbyAI/app/main.py:208\u001b[39m, in \u001b[36mRegridConnector.get_construction_data_by_address\u001b[39m\u001b[34m(self, address, city, state, zip_code)\u001b[39m\n\u001b[32m    195\u001b[39m \u001b[38;5;250m\u001b[39m\u001b[33;03m\"\"\"\u001b[39;00m\n\u001b[32m    196\u001b[39m \u001b[33;03mComplete workflow to get construction-relevant data for an address.\u001b[39;00m\n\u001b[32m    197\u001b[39m \u001b[33;03m\u001b[39;00m\n\u001b[32m   (...)\u001b[39m\u001b[32m    205\u001b[39m \u001b[33;03m    Dictionary with construction-relevant parcel data\u001b[39;00m\n\u001b[32m    206\u001b[39m \u001b[33;03m\"\"\"\u001b[39;00m\n\u001b[32m    207\u001b[39m \u001b[38;5;66;03m# First search for the parcel\u001b[39;00m\n\u001b[32m--> \u001b[39m\u001b[32m208\u001b[39m search_results = \u001b[38;5;28;43mself\u001b[39;49m\u001b[43m.\u001b[49m\u001b[43msearch_parcels_by_address\u001b[49m\u001b[43m(\u001b[49m\u001b[43maddress\u001b[49m\u001b[43m,\u001b[49m\u001b[43m \u001b[49m\u001b[43mcity\u001b[49m\u001b[43m,\u001b[49m\u001b[43m \u001b[49m\u001b[43mstate\u001b[49m\u001b[43m,\u001b[49m\u001b[43m \u001b[49m\u001b[43mzip_code\u001b[49m\u001b[43m)\u001b[49m\n\u001b[32m    210\u001b[39m \u001b[38;5;28;01mif\u001b[39;00m \u001b[38;5;129;01mnot\u001b[39;00m search_results \u001b[38;5;129;01mor\u001b[39;00m \u001b[38;5;28mlen\u001b[39m(search_results) == \u001b[32m0\u001b[39m:\n\u001b[32m    211\u001b[39m     logger.warning(\u001b[33mf\u001b[39m\u001b[33m\"\u001b[39m\u001b[33mNo parcels found for address: \u001b[39m\u001b[38;5;132;01m{\u001b[39;00maddress\u001b[38;5;132;01m}\u001b[39;00m\u001b[33m\"\u001b[39m)\n",
      "\u001b[36mFile \u001b[39m\u001b[32m/workspaces/YimbyAI/app/main.py:191\u001b[39m, in \u001b[36mRegridConnector.search_parcels_by_address\u001b[39m\u001b[34m(self, address, city, state, zip_code)\u001b[39m\n\u001b[32m    189\u001b[39m \u001b[38;5;28;01melse\u001b[39;00m:\n\u001b[32m    190\u001b[39m     logger.error(\u001b[33mf\u001b[39m\u001b[33m\"\u001b[39m\u001b[33mError in API call: \u001b[39m\u001b[38;5;132;01m{\u001b[39;00mresponse.status_code\u001b[38;5;132;01m}\u001b[39;00m\u001b[33m - \u001b[39m\u001b[38;5;132;01m{\u001b[39;00mresponse.text\u001b[38;5;132;01m}\u001b[39;00m\u001b[33m\"\u001b[39m)\n\u001b[32m--> \u001b[39m\u001b[32m191\u001b[39m     \u001b[43mresponse\u001b[49m\u001b[43m.\u001b[49m\u001b[43mraise_for_status\u001b[49m\u001b[43m(\u001b[49m\u001b[43m)\u001b[49m\n",
      "\u001b[36mFile \u001b[39m\u001b[32m/workspaces/YimbyAI/.venv/lib/python3.12/site-packages/requests/models.py:1024\u001b[39m, in \u001b[36mResponse.raise_for_status\u001b[39m\u001b[34m(self)\u001b[39m\n\u001b[32m   1019\u001b[39m     http_error_msg = (\n\u001b[32m   1020\u001b[39m         \u001b[33mf\u001b[39m\u001b[33m\"\u001b[39m\u001b[38;5;132;01m{\u001b[39;00m\u001b[38;5;28mself\u001b[39m.status_code\u001b[38;5;132;01m}\u001b[39;00m\u001b[33m Server Error: \u001b[39m\u001b[38;5;132;01m{\u001b[39;00mreason\u001b[38;5;132;01m}\u001b[39;00m\u001b[33m for url: \u001b[39m\u001b[38;5;132;01m{\u001b[39;00m\u001b[38;5;28mself\u001b[39m.url\u001b[38;5;132;01m}\u001b[39;00m\u001b[33m\"\u001b[39m\n\u001b[32m   1021\u001b[39m     )\n\u001b[32m   1023\u001b[39m \u001b[38;5;28;01mif\u001b[39;00m http_error_msg:\n\u001b[32m-> \u001b[39m\u001b[32m1024\u001b[39m     \u001b[38;5;28;01mraise\u001b[39;00m HTTPError(http_error_msg, response=\u001b[38;5;28mself\u001b[39m)\n",
      "\u001b[31mHTTPError\u001b[39m: 401 Client Error: Unauthorized for url: https://app.regrid.com/api/v1/search?address=2508+Lorentz+Pl+N"
     ]
    }
   ],
   "source": [
    "# Load and Explore Data\n",
    "# Retrieve parcel data using the regrid API connector\n",
    "API = os.getenv('REGRID_API_KEY')\n",
    "connector = main.RegridConnector(API)\n",
    "parcel_data = connector.get_construction_data_by_address(address = '2508 Lorentz Pl N')\n",
    "\n",
    "# Load data into a pandas DataFrame\n",
    "df = pd.DataFrame(parcel_data)\n",
    "\n",
    "# Display basic information about the dataset\n",
    "print(\"Dataset Info:\")\n",
    "print(df.info())\n",
    "\n",
    "# Display the first few rows of the dataset\n",
    "print(\"First 5 Rows:\")\n",
    "print(df.head())"
   ]
  },
  {
   "cell_type": "markdown",
   "id": "59d5c316",
   "metadata": {},
   "source": [
    "# Data Dictionary\n",
    "The parcel data structures retrieved by the regrid API connector include the following fields:\n",
    "- `parcel_id`: Unique identifier for each parcel.\n",
    "- `geometry`: Geospatial data representing the parcel's shape.\n",
    "- `land_use`: Categorical variable indicating the type of land use (e.g., residential, commercial).\n",
    "- `area`: Numerical value representing the parcel's area in square meters.\n",
    "- `value`: Numerical value representing the assessed value of the parcel."
   ]
  },
  {
   "cell_type": "markdown",
   "id": "654b42c4",
   "metadata": {},
   "source": [
    "# Data Dictionary\n",
    "The following are the parcel data structures retrieved by the Regrid API connector:\n",
    "\n",
    "- **MOCK_PARCEL_POINT**: Contains parcel ID and coordinates (latitude and longitude).\n",
    "  - `parcel_id`: Unique identifier for the parcel.\n",
    "  - `lat`: Latitude of the parcel.\n",
    "  - `lon`: Longitude of the parcel.\n",
    "\n",
    "- **MOCK_PARCEL_DETAILS**: Contains detailed information about the parcel.\n",
    "  - `parcel_id`: Unique identifier for the parcel.\n",
    "  - `zoning`: Zoning code of the parcel.\n",
    "  - `zoning_description`: Description of the zoning code.\n",
    "  - `land_use_code`: Land use code of the parcel.\n",
    "  - `building_area_sq_ft`: Building area in square feet.\n",
    "  - `land_area_sq_ft`: Land area in square feet.\n",
    "  - `year_built`: Year the building was constructed.\n",
    "\n",
    "- **MOCK_PARCEL_BOUNDARY**: Contains the boundary information of the parcel.\n",
    "  - `type`: Type of the boundary (e.g., Feature).\n",
    "  - `properties`: Properties of the boundary, including area.\n",
    "  - `geometry`: Geometric representation of the boundary, including coordinates."
   ]
  },
  {
   "cell_type": "markdown",
   "id": "f8d581b3",
   "metadata": {},
   "source": [
    "# Preprocess Data\n",
    "Clean and preprocess the data, including handling missing values, encoding categorical variables, and scaling numerical features."
   ]
  },
  {
   "cell_type": "code",
   "execution_count": null,
   "id": "8c237062",
   "metadata": {},
   "outputs": [],
   "source": [
    "# Preprocess Data\n",
    "from sklearn.preprocessing import OneHotEncoder, StandardScaler\n",
    "\n",
    "# Handle missing values\n",
    "df = df.dropna()\n",
    "\n",
    "# Encode categorical variables\n",
    "encoder = OneHotEncoder(sparse=False)\n",
    "encoded_land_use = encoder.fit_transform(df[['land_use']])\n",
    "encoded_land_use_df = pd.DataFrame(encoded_land_use, columns=encoder.get_feature_names_out(['land_use']))\n",
    "\n",
    "# Scale numerical features\n",
    "scaler = StandardScaler()\n",
    "scaled_features = scaler.fit_transform(df[['area', 'value']])\n",
    "scaled_features_df = pd.DataFrame(scaled_features, columns=['scaled_area', 'scaled_value'])\n",
    "\n",
    "# Combine preprocessed data\n",
    "df_preprocessed = pd.concat([df.reset_index(drop=True), encoded_land_use_df, scaled_features_df], axis=1)\n",
    "df_preprocessed = df_preprocessed.drop(['land_use', 'area', 'value'], axis=1)\n",
    "\n",
    "print(\"Preprocessed Data:\")\n",
    "print(df_preprocessed.head())"
   ]
  },
  {
   "cell_type": "markdown",
   "id": "bbbc3c7b",
   "metadata": {},
   "source": [
    "# Build and Train Model\n",
    "Use scikit-learn to build and train a machine learning model on the preprocessed data."
   ]
  },
  {
   "cell_type": "code",
   "execution_count": null,
   "id": "99b56eb4",
   "metadata": {},
   "outputs": [],
   "source": [
    "# Build and Train Model\n",
    "# Split data into features and target\n",
    "X = df_preprocessed.drop('parcel_id', axis=1)\n",
    "y = df['value']  # Target variable\n",
    "\n",
    "# Split data into training and testing sets\n",
    "X_train, X_test, y_train, y_test = train_test_split(X, y, test_size=0.2, random_state=42)\n",
    "\n",
    "# Initialize and train the model\n",
    "model = RandomForestRegressor(random_state=42)\n",
    "model.fit(X_train, y_train)\n",
    "\n",
    "print(\"Model training complete.\")"
   ]
  },
  {
   "cell_type": "markdown",
   "id": "6bcff5a9",
   "metadata": {},
   "source": [
    "# Evaluate Model\n",
    "Evaluate the model's performance using appropriate metrics and visualize the results."
   ]
  },
  {
   "cell_type": "code",
   "execution_count": null,
   "id": "c86ae0ae",
   "metadata": {},
   "outputs": [],
   "source": [
    "# Evaluate Model\n",
    "# Make predictions\n",
    "y_pred = model.predict(X_test)\n",
    "\n",
    "# Calculate evaluation metrics\n",
    "mse = mean_squared_error(y_test, y_pred)\n",
    "r2 = r2_score(y_test, y_pred)\n",
    "\n",
    "print(f\"Mean Squared Error: {mse}\")\n",
    "print(f\"R^2 Score: {r2}\")\n",
    "\n",
    "# Visualize results\n",
    "import matplotlib.pyplot as plt\n",
    "\n",
    "plt.scatter(y_test, y_pred)\n",
    "plt.xlabel(\"Actual Values\")\n",
    "plt.ylabel(\"Predicted Values\")\n",
    "plt.title(\"Actual vs Predicted Values\")\n",
    "plt.show()"
   ]
  }
 ],
 "metadata": {
  "kernelspec": {
   "display_name": ".venv",
   "language": "python",
   "name": "python3"
  },
  "language_info": {
   "codemirror_mode": {
    "name": "ipython",
    "version": 3
   },
   "file_extension": ".py",
   "mimetype": "text/x-python",
   "name": "python",
   "nbconvert_exporter": "python",
   "pygments_lexer": "ipython3",
   "version": "3.12.1"
  }
 },
 "nbformat": 4,
 "nbformat_minor": 5
}
